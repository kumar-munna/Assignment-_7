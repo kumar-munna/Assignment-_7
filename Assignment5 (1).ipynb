{
 "cells": [
  {
   "cell_type": "code",
   "execution_count": 1,
   "id": "a5bbc594-ccc9-4521-b7b2-ec2453290652",
   "metadata": {},
   "outputs": [],
   "source": [
    "# Q1. Create a function which will take a list as an argument and return the product of all the numbers \n",
    "# after creating a flat list.\n",
    "\n",
    "# Use the below-given list as an argument for your function.\n",
    "\n",
    "\n",
    "# list1 = [1,2,3,4, [44,55,66, True], False, (34,56,78,89,34), {1,2,3,3,2,1}, {1:34, \"key2\": [55, 67, 78, 89], 4: (45, \n",
    "# 22, 61, 34)}, [56, 'data science'], 'Machine Learning']\n",
    "\n",
    "\n",
    "# Note: you must extract numeric keys and values of the dictionary also."
   ]
  },
  {
   "cell_type": "code",
   "execution_count": 3,
   "id": "1651eb5c-8cbb-46fa-ad20-813ce882f6f6",
   "metadata": {},
   "outputs": [],
   "source": [
    "# Answer 1:"
   ]
  },
  {
   "cell_type": "code",
   "execution_count": 18,
   "id": "d769b2e3-9aea-45ae-9d71-bd973dc5e344",
   "metadata": {},
   "outputs": [],
   "source": [
    "list1 = [1,2,3,4, [44,55,66, True], False, (34,56,78,89,34), {1,2,3,3,2,1}, {1:34, \"key2\": [55, 67, 78, 89], 4: (45, 22, 61, 34)}, [56, 'data science'], 'Machine Learning']\n",
    "def flat_list(given_list):\n",
    "    l=[]\n",
    "    for i in given_list:\n",
    "        if type(i)==list or type(i)==tuple or type(i)==set:\n",
    "                for j in i :\n",
    "                    if type(j)==int:\n",
    "                        l.append(j)\n",
    "        elif type(i)==dict:\n",
    "            for j in i:\n",
    "                if type(j)==int:\n",
    "                    l.append(j)\n",
    "                if type(i[j])==int:\n",
    "                    l.append(i[j])\n",
    "                if type(i[j])==str:\n",
    "                    l.append(i[j])\n",
    "                if type(j)==str:\n",
    "                    pass\n",
    "                if type(i[j])==list or type(i[j])==tuple:\n",
    "                    for k in i[j]:\n",
    "                        l.append(k)\n",
    "        elif type(i)==int:\n",
    "            l.append(i)\n",
    "        else:\n",
    "            pass\n",
    "        print(l)\n",
    "        value=1\n",
    "        for i in l:\n",
    "            value=value*i\n",
    "    return value"
   ]
  },
  {
   "cell_type": "code",
   "execution_count": 19,
   "id": "330b8100-4082-43a9-93df-36798e72c15a",
   "metadata": {},
   "outputs": [
    {
     "name": "stdout",
     "output_type": "stream",
     "text": [
      "[1]\n",
      "[1, 2]\n",
      "[1, 2, 3]\n",
      "[1, 2, 3, 4]\n",
      "[1, 2, 3, 4, 44, 55, 66]\n",
      "[1, 2, 3, 4, 44, 55, 66]\n",
      "[1, 2, 3, 4, 44, 55, 66, 34, 56, 78, 89, 34]\n",
      "[1, 2, 3, 4, 44, 55, 66, 34, 56, 78, 89, 34, 1, 2, 3]\n",
      "[1, 2, 3, 4, 44, 55, 66, 34, 56, 78, 89, 34, 1, 2, 3, 1, 34, 55, 67, 78, 89, 4, 45, 22, 61, 34]\n",
      "[1, 2, 3, 4, 44, 55, 66, 34, 56, 78, 89, 34, 1, 2, 3, 1, 34, 55, 67, 78, 89, 4, 45, 22, 61, 34, 56]\n",
      "[1, 2, 3, 4, 44, 55, 66, 34, 56, 78, 89, 34, 1, 2, 3, 1, 34, 55, 67, 78, 89, 4, 45, 22, 61, 34, 56]\n"
     ]
    },
    {
     "data": {
      "text/plain": [
       "4134711838987085478833841242112000"
      ]
     },
     "execution_count": 19,
     "metadata": {},
     "output_type": "execute_result"
    }
   ],
   "source": [
    "flat_list(list1)"
   ]
  },
  {
   "cell_type": "code",
   "execution_count": 21,
   "id": "e1446040-5e49-4d81-afbe-cb9b6741d744",
   "metadata": {},
   "outputs": [
    {
     "data": {
      "text/plain": [
       "[1,\n",
       " 2,\n",
       " 3,\n",
       " 4,\n",
       " [44, 55, 66, True],\n",
       " False,\n",
       " (34, 56, 78, 89, 34),\n",
       " {1, 2, 3},\n",
       " {1: 34, 'key2': [55, 67, 78, 89], 4: (45, 22, 61, 34)},\n",
       " [56, 'data science'],\n",
       " 'Machine Learning']"
      ]
     },
     "execution_count": 21,
     "metadata": {},
     "output_type": "execute_result"
    }
   ],
   "source": [
    "list1"
   ]
  },
  {
   "cell_type": "code",
   "execution_count": 6,
   "id": "f39465d3-db18-44a3-a144-f29b98f8d404",
   "metadata": {},
   "outputs": [],
   "source": [
    "# Q2. Write a python program for encrypting a message sent to you by your friend. The logic of encryption \n",
    "# should be such that, for a the output should be z. For b, the output should be y. For c, the output should \n",
    "# be x respectively. Also, the whitespace should be replaced with a dollar sign. Keep the punctuation \n",
    "# marks unchanged.\n",
    "\n",
    "\n",
    "# Input Sentence: I want to become a Data Scientist.\n",
    "\n",
    "\n",
    "# Encrypt the above input sentence using the program you just created.\n",
    "\n",
    "\n",
    "# Note: Convert the given input sentence into lowercase before encrypting. The final output should be \n",
    "# lowercase"
   ]
  },
  {
   "cell_type": "code",
   "execution_count": 6,
   "id": "fec821b2-6deb-4c1d-8690-ad3668a283ab",
   "metadata": {},
   "outputs": [],
   "source": [
    "# answer 2:"
   ]
  },
  {
   "cell_type": "code",
   "execution_count": 11,
   "id": "4169a41b-a67a-4cf0-813b-86cfc5452817",
   "metadata": {},
   "outputs": [],
   "source": [
    "def encrypt_message(message):\n",
    "    message=message.lower()\n",
    "    encrypt_map={ 'a':'z','b':'y','c':'x','d':'w','e':'v','f':'u','g':'t','h':'s','i':'r','j':'q','k':'p','l':'o','m':'n','n':'m','o':'l','p':'k','q':'j','r':'i','s':'h','t':'g','u':'f',\n",
    "                 'v':'e','w':'d','x':'c','y':'b','z':'a'}\n",
    "    space =' '\n",
    "    \n",
    "    for letter in message:\n",
    "        if letter.isalpha():\n",
    "            space+=encrypt_map[letter]\n",
    "        elif letter.isspace():\n",
    "            space +='$'\n",
    "        else:\n",
    "            space +=letter\n",
    "    return space"
   ]
  },
  {
   "cell_type": "code",
   "execution_count": 12,
   "id": "ac5053b4-bae6-438a-a587-f93452dda29b",
   "metadata": {},
   "outputs": [
    {
     "data": {
      "text/plain": [
       "' r$dzmg$gl$yvxlnv$z$wzgz$hxrvmgrhg'"
      ]
     },
     "execution_count": 12,
     "metadata": {},
     "output_type": "execute_result"
    }
   ],
   "source": [
    "\n",
    "encrypt_message(\"I want to become a Data Scientist\")"
   ]
  },
  {
   "cell_type": "code",
   "execution_count": 1,
   "id": "9064f28c-5338-4f48-a254-9b4cbdb172f9",
   "metadata": {},
   "outputs": [],
   "source": []
  },
  {
   "cell_type": "code",
   "execution_count": null,
   "id": "08a5349a-4cab-4fbd-af94-5beb86613d85",
   "metadata": {},
   "outputs": [],
   "source": []
  },
  {
   "cell_type": "code",
   "execution_count": null,
   "id": "018bb78b-ba7e-49d9-9d87-45150776b9c0",
   "metadata": {},
   "outputs": [],
   "source": []
  }
 ],
 "metadata": {
  "kernelspec": {
   "display_name": "Python 3 (ipykernel)",
   "language": "python",
   "name": "python3"
  },
  "language_info": {
   "codemirror_mode": {
    "name": "ipython",
    "version": 3
   },
   "file_extension": ".py",
   "mimetype": "text/x-python",
   "name": "python",
   "nbconvert_exporter": "python",
   "pygments_lexer": "ipython3",
   "version": "3.10.8"
  }
 },
 "nbformat": 4,
 "nbformat_minor": 5
}
